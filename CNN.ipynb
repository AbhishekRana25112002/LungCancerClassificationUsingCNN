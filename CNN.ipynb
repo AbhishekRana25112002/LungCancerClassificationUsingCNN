{
  "cells": [
    {
      "cell_type": "code",
      "execution_count": null,
      "metadata": {
        "id": "i1EH2dZbptdS"
      },
      "outputs": [],
      "source": [
        "! pip install -q kaggle\n",
        "from google.colab import files\n",
        "\n",
        "files.upload()"
      ]
    },
    {
      "cell_type": "code",
      "execution_count": null,
      "metadata": {
        "id": "iHd9QhmjptZj"
      },
      "outputs": [],
      "source": [
        "!rm -r ~/.kaggle\n",
        "!mkdir ~/.kaggle\n",
        "!mv ./kaggle.json ~/.kaggle/\n",
        "!chmod 600 ~/.kaggle/kaggle.json"
      ]
    },
    {
      "cell_type": "code",
      "execution_count": null,
      "metadata": {
        "id": "hbxV2IYUptQx"
      },
      "outputs": [],
      "source": [
        "!kaggle datasets download -d andrewmvd/lung-and-colon-cancer-histopathological-images"
      ]
    },
    {
      "cell_type": "code",
      "execution_count": null,
      "metadata": {
        "id": "LdMbLsRRqvj8"
      },
      "outputs": [],
      "source": [
        "import zipfile\n",
        "zip_ref = zipfile.ZipFile('lung-and-colon-cancer-histopathological-images.zip', 'r')\n",
        "zip_ref.extractall('/content')\n",
        "zip_ref.close()"
      ]
    },
    {
      "cell_type": "code",
      "execution_count": null,
      "metadata": {
        "id": "Y4furyxSPQaF"
      },
      "outputs": [],
      "source": [
        "# Import necessary libraries\n",
        "import numpy as np\n",
        "import pandas as pd\n",
        "import matplotlib.pyplot as plt\n",
        "from PIL import Image\n",
        "from glob import glob\n",
        "from sklearn.model_selection import train_test_split\n",
        "from sklearn import metrics\n",
        "import cv2\n",
        "import gc\n",
        "import os\n",
        "import tensorflow as tf\n",
        "from tensorflow import keras\n",
        "from keras import layers\n",
        "from keras.callbacks import EarlyStopping, ReduceLROnPlateau"
      ]
    },
    {
      "cell_type": "code",
      "execution_count": null,
      "metadata": {
        "id": "fOICA6m3e96F"
      },
      "outputs": [],
      "source": [
        "# Ignore warnings\n",
        "import warnings\n",
        "warnings.filterwarnings('ignore')"
      ]
    },
    {
      "cell_type": "code",
      "execution_count": null,
      "metadata": {
        "id": "P24o3g7Se92j"
      },
      "outputs": [],
      "source": [
        "# Step 2: Data Visualization\n",
        "path = '/content/lung_colon_image_set/lung_image_sets'\n",
        "classes = os.listdir(path)\n",
        "classes"
      ]
    },
    {
      "cell_type": "code",
      "execution_count": null,
      "metadata": {
        "id": "zCENMyAde9zm"
      },
      "outputs": [],
      "source": [
        "# Display random images from each class\n",
        "for cat in classes:\n",
        "    image_dir = f'{path}/{cat}'\n",
        "    images = os.listdir(image_dir)\n",
        "\n",
        "    # Display 3 random images for each class\n",
        "    fig, ax = plt.subplots(1, 3, figsize=(10, 5))\n",
        "    fig.suptitle(f'Images for {cat} category...', fontsize=20)\n",
        "\n",
        "    for i in range(3):\n",
        "        k = np.random.randint(0, len(images))\n",
        "        img = np.array(Image.open(f'{path}/{cat}/{images[k]}'))\n",
        "        ax[i].imshow(img)\n",
        "        ax[i].axis('off')\n",
        "    plt.show()\n"
      ]
    },
    {
      "cell_type": "code",
      "execution_count": null,
      "metadata": {
        "id": "z83bQAwZe9wK"
      },
      "outputs": [],
      "source": [
        "# img = Image.open('/content/drive/MyDrive/New Folder/lung_image_sets/lung_aca/lungaca1.jpeg')\n",
        "# img = np.array(img)\n",
        "# # img"
      ]
    },
    {
      "cell_type": "code",
      "execution_count": null,
      "metadata": {
        "id": "b2esp6goe9tC"
      },
      "outputs": [],
      "source": [
        "# Step 3: Data Preparation for Training\n",
        "IMG_SIZE = 128\n",
        "SPLIT = 0.2\n",
        "EPOCHS = 15\n",
        "BATCH_SIZE = 2"
      ]
    },
    {
      "cell_type": "code",
      "execution_count": null,
      "metadata": {
        "colab": {
          "background_save": true
        },
        "id": "-cFZpMXue9qB"
      },
      "outputs": [],
      "source": [
        "# Lists to store images and labels\n",
        "X = []\n",
        "Y = []\n",
        "\n",
        "# Loop through each class\n",
        "for i, cat in enumerate(classes):\n",
        "    images = glob(f'{path}/{cat}/*.jpeg')\n",
        "    # print(images)\n",
        "    # Read and resize each image, append to lists\n",
        "    for image in images:\n",
        "        img = cv2.imread(image)\n",
        "        X.append(cv2.resize(img, (IMG_SIZE, IMG_SIZE)))\n",
        "        Y.append(i)"
      ]
    },
    {
      "cell_type": "code",
      "execution_count": null,
      "metadata": {
        "colab": {
          "background_save": true
        },
        "id": "IDJaFMQ-e9nK"
      },
      "outputs": [],
      "source": [
        "# print(type(X))\n",
        "# print(Y)"
      ]
    },
    {
      "cell_type": "code",
      "execution_count": null,
      "metadata": {
        "colab": {
          "background_save": true
        },
        "id": "gL9rQNoxe9kP"
      },
      "outputs": [],
      "source": [
        "# Convert lists to NumPy arrays\n",
        "X = np.asarray(X)\n",
        "one_hot_encoded_Y = pd.get_dummies(Y).values\n",
        "one_hot_encoded_Y[300]"
      ]
    },
    {
      "cell_type": "code",
      "execution_count": null,
      "metadata": {
        "colab": {
          "background_save": true
        },
        "id": "Ob68zlLDe9hM"
      },
      "outputs": [],
      "source": [
        "# Split the dataset into training and validation sets\n",
        "X_train, X_val, Y_train, Y_val = train_test_split(X, one_hot_encoded_Y,\n",
        "                                                  test_size=SPLIT,\n",
        "                                                  random_state=2022)"
      ]
    },
    {
      "cell_type": "code",
      "execution_count": null,
      "metadata": {
        "colab": {
          "background_save": true
        },
        "id": "IGip2ivIe9d0"
      },
      "outputs": [],
      "source": [
        "# Step 4: Model Development\n",
        "# Define the CNN model using Keras Sequential API\n",
        "model = keras.models.Sequential([\n",
        "    layers.Conv2D(filters=32, kernel_size=(5, 5), activation='relu', input_shape=(IMG_SIZE, IMG_SIZE, 3), padding='same'),\n",
        "    layers.MaxPooling2D(2, 2),\n",
        "\n",
        "    layers.Conv2D(filters=64, kernel_size=(3, 3), activation='relu', padding='same'),\n",
        "    layers.MaxPooling2D(2, 2),\n",
        "\n",
        "    layers.Conv2D(filters=128, kernel_size=(3, 3), activation='relu', padding='same'),\n",
        "    layers.MaxPooling2D(2, 2),\n",
        "\n",
        "    layers.Flatten(),\n",
        "    layers.Dense(256, activation='relu'),\n",
        "    # layers.BatchNormalization(),\n",
        "    layers.Dense(128, activation='relu'),\n",
        "    layers.Dropout(0.3),\n",
        "    # layers.BatchNormalization(),\n",
        "    layers.Dense(3, activation='softmax')\n",
        "])\n"
      ]
    },
    {
      "cell_type": "code",
      "execution_count": null,
      "metadata": {
        "colab": {
          "background_save": true
        },
        "id": "_Tg9URrxe9ao"
      },
      "outputs": [],
      "source": [
        "# Print model summary\n",
        "model.summary()"
      ]
    },
    {
      "cell_type": "code",
      "execution_count": null,
      "metadata": {
        "colab": {
          "background_save": true
        },
        "id": "0GfC88hoCazp"
      },
      "outputs": [],
      "source": [
        "# Visualize the model architecture\n",
        "keras.utils.plot_model(\n",
        "    model,\n",
        "    show_shapes=True,\n",
        "    show_dtype=True,\n",
        "    show_layer_activations=True\n",
        ")"
      ]
    },
    {
      "cell_type": "code",
      "execution_count": null,
      "metadata": {
        "colab": {
          "background_save": true
        },
        "id": "wdqEC5z5CuG0"
      },
      "outputs": [],
      "source": [
        "# Compile the model\n",
        "model.compile(\n",
        "    optimizer='adam',\n",
        "    loss='categorical_crossentropy',\n",
        "    metrics=['accuracy']\n",
        ")\n"
      ]
    },
    {
      "cell_type": "code",
      "execution_count": null,
      "metadata": {
        "colab": {
          "background_save": true
        },
        "id": "IhpittKNDOWz"
      },
      "outputs": [],
      "source": [
        "# Step 5: Callbacks\n",
        "# Define custom callback to stop training when validation accuracy reaches 90%\n",
        "class myCallback(tf.keras.callbacks.Callback):\n",
        "    def on_epoch_end(self, epoch, logs={}):\n",
        "        if logs.get('val_accuracy') > 0.90:\n",
        "            print('\\nValidation accuracy has reached 90%, stopping further training.')\n",
        "            self.model.stop_training = True"
      ]
    },
    {
      "cell_type": "code",
      "execution_count": null,
      "metadata": {
        "colab": {
          "background_save": true
        },
        "id": "NJy1UJg3DOTw"
      },
      "outputs": [],
      "source": [
        "# Define EarlyStopping and ReduceLROnPlateau callbacks\n",
        "es = EarlyStopping(patience=3, monitor='val_accuracy', restore_best_weights=True)\n",
        "lr = ReduceLROnPlateau(monitor='val_loss', patience=2, factor=0.5, verbose=1)"
      ]
    },
    {
      "cell_type": "code",
      "execution_count": null,
      "metadata": {
        "colab": {
          "base_uri": "https://localhost:8080/"
        },
        "id": "LVUW_ZQdDORO",
        "outputId": "6291a675-1299-4a20-a481-7991acd81164"
      },
      "outputs": [
        {
          "name": "stdout",
          "output_type": "stream",
          "text": [
            "Epoch 1/15\n"
          ]
        }
      ],
      "source": [
        "# Step 6: Model Training\n",
        "# Train the model with the training dataset and validate on the validation dataset\n",
        "history = model.fit(X_train, Y_train,\n",
        "                    validation_data=(X_val, Y_val),\n",
        "                    batch_size=BATCH_SIZE,\n",
        "                    epochs=EPOCHS,\n",
        "                    verbose=1,\n",
        "                    callbacks=[myCallback()])"
      ]
    },
    {
      "cell_type": "code",
      "execution_count": null,
      "metadata": {
        "id": "bfYz3gecDOOc"
      },
      "outputs": [],
      "source": [
        "# Step 7: Visualize Training Metrics\n",
        "# Plot training and validation loss over epochs\n",
        "# Plot training and validation accuracy over epochs\n",
        "history_df = pd.DataFrame(history.history)\n",
        "history_df.loc[:, ['loss', 'val_loss']].plot()\n",
        "history_df.loc[:, ['accuracy', 'val_accuracy']].plot()\n",
        "plt.show()"
      ]
    },
    {
      "cell_type": "code",
      "execution_count": null,
      "metadata": {
        "id": "4KsLe0c0DOLr"
      },
      "outputs": [],
      "source": [
        "# Step 8: Model Evaluation\n",
        "# Predict class labels for the validation dataset\n",
        "Y_pred = model.predict(X_val)\n",
        "# print(Y_pred, Y_val)\n",
        "Y_val = np.argmax(Y_val, axis=1)\n",
        "Y_pred = np.argmax(Y_pred, axis=1)\n",
        "# print(Y_pred, Y_val)\n"
      ]
    },
    {
      "cell_type": "code",
      "execution_count": null,
      "metadata": {
        "id": "IYjeYb1fDOBV"
      },
      "outputs": [],
      "source": [
        "# Confusion matrix and classification report for model evaluation\n",
        "print(metrics.confusion_matrix(Y_val, Y_pred))\n",
        "print(metrics.classification_report(Y_val, Y_pred, target_names=classes))"
      ]
    },
    {
      "cell_type": "code",
      "execution_count": null,
      "metadata": {
        "id": "ccP-wjqaBwMN"
      },
      "outputs": [],
      "source": []
    }
  ],
  "metadata": {
    "accelerator": "GPU",
    "colab": {
      "provenance": []
    },
    "kernelspec": {
      "display_name": "Python 3",
      "name": "python3"
    },
    "language_info": {
      "name": "python"
    }
  },
  "nbformat": 4,
  "nbformat_minor": 0
}